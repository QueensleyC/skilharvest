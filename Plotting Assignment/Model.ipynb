{
 "cells": [
  {
   "cell_type": "code",
   "execution_count": 2,
   "id": "68d0d12b",
   "metadata": {},
   "outputs": [],
   "source": [
    "import pandas as pd\n",
    "import numpy as np\n",
    "import seaborn as sns\n",
    "import matplotlib.pyplot as plt\n",
    "\n",
    "import re"
   ]
  },
  {
   "cell_type": "code",
   "execution_count": 3,
   "id": "aa4ac817",
   "metadata": {},
   "outputs": [
    {
     "data": {
      "text/html": [
       "<div>\n",
       "<style scoped>\n",
       "    .dataframe tbody tr th:only-of-type {\n",
       "        vertical-align: middle;\n",
       "    }\n",
       "\n",
       "    .dataframe tbody tr th {\n",
       "        vertical-align: top;\n",
       "    }\n",
       "\n",
       "    .dataframe thead th {\n",
       "        text-align: right;\n",
       "    }\n",
       "</style>\n",
       "<table border=\"1\" class=\"dataframe\">\n",
       "  <thead>\n",
       "    <tr style=\"text-align: right;\">\n",
       "      <th></th>\n",
       "      <th>CustomerKey</th>\n",
       "      <th>Prefix</th>\n",
       "      <th>FirstName</th>\n",
       "      <th>LastName</th>\n",
       "      <th>Unnamed: 4</th>\n",
       "      <th>Unnamed: 5</th>\n",
       "      <th>Unnamed: 6</th>\n",
       "      <th>BirthDate</th>\n",
       "      <th>Unnamed: 8</th>\n",
       "      <th>MaritalStatus</th>\n",
       "      <th>Gender</th>\n",
       "      <th>EmailAddress</th>\n",
       "      <th>AnnualIncome</th>\n",
       "      <th>TotalChildren</th>\n",
       "      <th>EducationLevel</th>\n",
       "      <th>Occupation</th>\n",
       "      <th>HomeOwner</th>\n",
       "      <th>Unnamed: 17</th>\n",
       "      <th>Unnamed: 18</th>\n",
       "      <th>BirthDate.1</th>\n",
       "    </tr>\n",
       "  </thead>\n",
       "  <tbody>\n",
       "    <tr>\n",
       "      <th>0</th>\n",
       "      <td>11000</td>\n",
       "      <td>MR.</td>\n",
       "      <td>JON</td>\n",
       "      <td>YANG</td>\n",
       "      <td>MR. JON YANG</td>\n",
       "      <td>YANG</td>\n",
       "      <td>YANG</td>\n",
       "      <td>1966-08-04</td>\n",
       "      <td>NaN</td>\n",
       "      <td>M</td>\n",
       "      <td>M</td>\n",
       "      <td>jon24@learnsector.com</td>\n",
       "      <td>$90,000</td>\n",
       "      <td>2</td>\n",
       "      <td>Bachelors</td>\n",
       "      <td>Professional</td>\n",
       "      <td>Y</td>\n",
       "      <td>NaN</td>\n",
       "      <td>NaN</td>\n",
       "      <td>14-05-1965</td>\n",
       "    </tr>\n",
       "    <tr>\n",
       "      <th>1</th>\n",
       "      <td>11001</td>\n",
       "      <td>MR.</td>\n",
       "      <td>EUGENE</td>\n",
       "      <td>HUANG</td>\n",
       "      <td>MR. EUGENE HUANG</td>\n",
       "      <td>HUANG</td>\n",
       "      <td>HUANG</td>\n",
       "      <td>1965-05-14</td>\n",
       "      <td>NaN</td>\n",
       "      <td>S</td>\n",
       "      <td>M</td>\n",
       "      <td>eugene10@learnsector.com</td>\n",
       "      <td>$60,000</td>\n",
       "      <td>3</td>\n",
       "      <td>Bachelors</td>\n",
       "      <td>Professional</td>\n",
       "      <td>N</td>\n",
       "      <td>NaN</td>\n",
       "      <td>NaN</td>\n",
       "      <td>15-02-1968</td>\n",
       "    </tr>\n",
       "    <tr>\n",
       "      <th>2</th>\n",
       "      <td>11002</td>\n",
       "      <td>MR.</td>\n",
       "      <td>RUBEN</td>\n",
       "      <td>TORRES</td>\n",
       "      <td>MR. RUBEN TORRES</td>\n",
       "      <td>TORRES</td>\n",
       "      <td>TORRES</td>\n",
       "      <td>1965-12-08</td>\n",
       "      <td>NaN</td>\n",
       "      <td>M</td>\n",
       "      <td>M</td>\n",
       "      <td>ruben35@learnsector.com</td>\n",
       "      <td>$60,000</td>\n",
       "      <td>3</td>\n",
       "      <td>Bachelors</td>\n",
       "      <td>Professional</td>\n",
       "      <td>Y</td>\n",
       "      <td>NaN</td>\n",
       "      <td>NaN</td>\n",
       "      <td>NaN</td>\n",
       "    </tr>\n",
       "    <tr>\n",
       "      <th>3</th>\n",
       "      <td>11003</td>\n",
       "      <td>MS.</td>\n",
       "      <td>CHRISTY</td>\n",
       "      <td>ZHU</td>\n",
       "      <td>MS. CHRISTY ZHU</td>\n",
       "      <td>ZHU</td>\n",
       "      <td>ZHU</td>\n",
       "      <td>1968-02-15</td>\n",
       "      <td>NaN</td>\n",
       "      <td>S</td>\n",
       "      <td>F</td>\n",
       "      <td>christy12@learnsector.com</td>\n",
       "      <td>$70,000</td>\n",
       "      <td>0</td>\n",
       "      <td>Bachelors</td>\n",
       "      <td>Professional</td>\n",
       "      <td>N</td>\n",
       "      <td>NaN</td>\n",
       "      <td>NaN</td>\n",
       "      <td>NaN</td>\n",
       "    </tr>\n",
       "    <tr>\n",
       "      <th>4</th>\n",
       "      <td>11004</td>\n",
       "      <td>MRS.</td>\n",
       "      <td>ELIZABETH</td>\n",
       "      <td>JOHNSON</td>\n",
       "      <td>MRS. ELIZABETH JOHNSON</td>\n",
       "      <td>JOHNSON</td>\n",
       "      <td>JOHNSON</td>\n",
       "      <td>1968-08-08</td>\n",
       "      <td>NaN</td>\n",
       "      <td>S</td>\n",
       "      <td>F</td>\n",
       "      <td>elizabeth5@learnsector.com</td>\n",
       "      <td>$80,000</td>\n",
       "      <td>5</td>\n",
       "      <td>Bachelors</td>\n",
       "      <td>Professional</td>\n",
       "      <td>Y</td>\n",
       "      <td>NaN</td>\n",
       "      <td>NaN</td>\n",
       "      <td>NaN</td>\n",
       "    </tr>\n",
       "  </tbody>\n",
       "</table>\n",
       "</div>"
      ],
      "text/plain": [
       "   CustomerKey Prefix  FirstName LastName              Unnamed: 4 Unnamed: 5  \\\n",
       "0        11000    MR.        JON     YANG            MR. JON YANG       YANG   \n",
       "1        11001    MR.     EUGENE    HUANG        MR. EUGENE HUANG      HUANG   \n",
       "2        11002    MR.      RUBEN   TORRES        MR. RUBEN TORRES     TORRES   \n",
       "3        11003    MS.    CHRISTY      ZHU         MS. CHRISTY ZHU        ZHU   \n",
       "4        11004   MRS.  ELIZABETH  JOHNSON  MRS. ELIZABETH JOHNSON    JOHNSON   \n",
       "\n",
       "  Unnamed: 6  BirthDate  Unnamed: 8 MaritalStatus Gender  \\\n",
       "0       YANG 1966-08-04         NaN             M      M   \n",
       "1      HUANG 1965-05-14         NaN             S      M   \n",
       "2     TORRES 1965-12-08         NaN             M      M   \n",
       "3        ZHU 1968-02-15         NaN             S      F   \n",
       "4    JOHNSON 1968-08-08         NaN             S      F   \n",
       "\n",
       "                 EmailAddress AnnualIncome  TotalChildren EducationLevel  \\\n",
       "0       jon24@learnsector.com     $90,000               2      Bachelors   \n",
       "1    eugene10@learnsector.com     $60,000               3      Bachelors   \n",
       "2     ruben35@learnsector.com     $60,000               3      Bachelors   \n",
       "3   christy12@learnsector.com     $70,000               0      Bachelors   \n",
       "4  elizabeth5@learnsector.com     $80,000               5      Bachelors   \n",
       "\n",
       "     Occupation HomeOwner  Unnamed: 17  Unnamed: 18 BirthDate.1  \n",
       "0  Professional         Y          NaN          NaN  14-05-1965  \n",
       "1  Professional         N          NaN          NaN  15-02-1968  \n",
       "2  Professional         Y          NaN          NaN         NaN  \n",
       "3  Professional         N          NaN          NaN         NaN  \n",
       "4  Professional         Y          NaN          NaN         NaN  "
      ]
     },
     "execution_count": 3,
     "metadata": {},
     "output_type": "execute_result"
    }
   ],
   "source": [
    "df = pd.read_csv(\"Customers.csv\", parse_dates=[\"BirthDate\"], dayfirst= True)\n",
    "df.head()"
   ]
  },
  {
   "cell_type": "code",
   "execution_count": 4,
   "id": "694c769b",
   "metadata": {},
   "outputs": [
    {
     "name": "stdout",
     "output_type": "stream",
     "text": [
      "<class 'pandas.core.frame.DataFrame'>\n",
      "RangeIndex: 18148 entries, 0 to 18147\n",
      "Data columns (total 20 columns):\n",
      " #   Column          Non-Null Count  Dtype         \n",
      "---  ------          --------------  -----         \n",
      " 0   CustomerKey     18148 non-null  int64         \n",
      " 1   Prefix          18018 non-null  object        \n",
      " 2   FirstName       18148 non-null  object        \n",
      " 3   LastName        18148 non-null  object        \n",
      " 4   Unnamed: 4      18148 non-null  object        \n",
      " 5   Unnamed: 5      18148 non-null  object        \n",
      " 6   Unnamed: 6      46 non-null     object        \n",
      " 7   BirthDate       18148 non-null  datetime64[ns]\n",
      " 8   Unnamed: 8      0 non-null      float64       \n",
      " 9   MaritalStatus   18148 non-null  object        \n",
      " 10  Gender          18018 non-null  object        \n",
      " 11  EmailAddress    18148 non-null  object        \n",
      " 12  AnnualIncome    18148 non-null  object        \n",
      " 13  TotalChildren   18148 non-null  int64         \n",
      " 14  EducationLevel  18148 non-null  object        \n",
      " 15  Occupation      18148 non-null  object        \n",
      " 16  HomeOwner       18148 non-null  object        \n",
      " 17  Unnamed: 17     0 non-null      float64       \n",
      " 18  Unnamed: 18     0 non-null      float64       \n",
      " 19  BirthDate.1     2 non-null      object        \n",
      "dtypes: datetime64[ns](1), float64(3), int64(2), object(14)\n",
      "memory usage: 2.8+ MB\n"
     ]
    }
   ],
   "source": [
    "df.info()"
   ]
  },
  {
   "cell_type": "code",
   "execution_count": 5,
   "id": "d7081bea",
   "metadata": {},
   "outputs": [],
   "source": [
    "# Drop columns with 100% null values and other insignificant columns\n",
    "df = df.drop(columns = [\"Unnamed: 8\", \"Unnamed: 17\", \"Unnamed: 18\", \"BirthDate.1\", \"Unnamed: 5\", \"Unnamed: 6\"])"
   ]
  },
  {
   "cell_type": "code",
   "execution_count": 6,
   "id": "da928809",
   "metadata": {},
   "outputs": [],
   "source": [
    "# Rename some columns \n",
    "df.rename(columns = {\"Unnamed: 4\": \"FullName\"}, inplace = True)"
   ]
  },
  {
   "cell_type": "code",
   "execution_count": 7,
   "id": "119e0e3d",
   "metadata": {},
   "outputs": [
    {
     "data": {
      "text/html": [
       "<div>\n",
       "<style scoped>\n",
       "    .dataframe tbody tr th:only-of-type {\n",
       "        vertical-align: middle;\n",
       "    }\n",
       "\n",
       "    .dataframe tbody tr th {\n",
       "        vertical-align: top;\n",
       "    }\n",
       "\n",
       "    .dataframe thead th {\n",
       "        text-align: right;\n",
       "    }\n",
       "</style>\n",
       "<table border=\"1\" class=\"dataframe\">\n",
       "  <thead>\n",
       "    <tr style=\"text-align: right;\">\n",
       "      <th></th>\n",
       "      <th>CustomerKey</th>\n",
       "      <th>Prefix</th>\n",
       "      <th>FirstName</th>\n",
       "      <th>LastName</th>\n",
       "      <th>FullName</th>\n",
       "      <th>BirthDate</th>\n",
       "      <th>MaritalStatus</th>\n",
       "      <th>Gender</th>\n",
       "      <th>EmailAddress</th>\n",
       "      <th>AnnualIncome</th>\n",
       "      <th>TotalChildren</th>\n",
       "      <th>EducationLevel</th>\n",
       "      <th>Occupation</th>\n",
       "      <th>HomeOwner</th>\n",
       "    </tr>\n",
       "  </thead>\n",
       "  <tbody>\n",
       "    <tr>\n",
       "      <th>0</th>\n",
       "      <td>11000</td>\n",
       "      <td>MR.</td>\n",
       "      <td>JON</td>\n",
       "      <td>YANG</td>\n",
       "      <td>MR. JON YANG</td>\n",
       "      <td>1966-08-04</td>\n",
       "      <td>M</td>\n",
       "      <td>M</td>\n",
       "      <td>jon24@learnsector.com</td>\n",
       "      <td>$90,000</td>\n",
       "      <td>2</td>\n",
       "      <td>Bachelors</td>\n",
       "      <td>Professional</td>\n",
       "      <td>Y</td>\n",
       "    </tr>\n",
       "    <tr>\n",
       "      <th>1</th>\n",
       "      <td>11001</td>\n",
       "      <td>MR.</td>\n",
       "      <td>EUGENE</td>\n",
       "      <td>HUANG</td>\n",
       "      <td>MR. EUGENE HUANG</td>\n",
       "      <td>1965-05-14</td>\n",
       "      <td>S</td>\n",
       "      <td>M</td>\n",
       "      <td>eugene10@learnsector.com</td>\n",
       "      <td>$60,000</td>\n",
       "      <td>3</td>\n",
       "      <td>Bachelors</td>\n",
       "      <td>Professional</td>\n",
       "      <td>N</td>\n",
       "    </tr>\n",
       "    <tr>\n",
       "      <th>2</th>\n",
       "      <td>11002</td>\n",
       "      <td>MR.</td>\n",
       "      <td>RUBEN</td>\n",
       "      <td>TORRES</td>\n",
       "      <td>MR. RUBEN TORRES</td>\n",
       "      <td>1965-12-08</td>\n",
       "      <td>M</td>\n",
       "      <td>M</td>\n",
       "      <td>ruben35@learnsector.com</td>\n",
       "      <td>$60,000</td>\n",
       "      <td>3</td>\n",
       "      <td>Bachelors</td>\n",
       "      <td>Professional</td>\n",
       "      <td>Y</td>\n",
       "    </tr>\n",
       "    <tr>\n",
       "      <th>3</th>\n",
       "      <td>11003</td>\n",
       "      <td>MS.</td>\n",
       "      <td>CHRISTY</td>\n",
       "      <td>ZHU</td>\n",
       "      <td>MS. CHRISTY ZHU</td>\n",
       "      <td>1968-02-15</td>\n",
       "      <td>S</td>\n",
       "      <td>F</td>\n",
       "      <td>christy12@learnsector.com</td>\n",
       "      <td>$70,000</td>\n",
       "      <td>0</td>\n",
       "      <td>Bachelors</td>\n",
       "      <td>Professional</td>\n",
       "      <td>N</td>\n",
       "    </tr>\n",
       "    <tr>\n",
       "      <th>4</th>\n",
       "      <td>11004</td>\n",
       "      <td>MRS.</td>\n",
       "      <td>ELIZABETH</td>\n",
       "      <td>JOHNSON</td>\n",
       "      <td>MRS. ELIZABETH JOHNSON</td>\n",
       "      <td>1968-08-08</td>\n",
       "      <td>S</td>\n",
       "      <td>F</td>\n",
       "      <td>elizabeth5@learnsector.com</td>\n",
       "      <td>$80,000</td>\n",
       "      <td>5</td>\n",
       "      <td>Bachelors</td>\n",
       "      <td>Professional</td>\n",
       "      <td>Y</td>\n",
       "    </tr>\n",
       "  </tbody>\n",
       "</table>\n",
       "</div>"
      ],
      "text/plain": [
       "   CustomerKey Prefix  FirstName LastName                FullName  BirthDate  \\\n",
       "0        11000    MR.        JON     YANG            MR. JON YANG 1966-08-04   \n",
       "1        11001    MR.     EUGENE    HUANG        MR. EUGENE HUANG 1965-05-14   \n",
       "2        11002    MR.      RUBEN   TORRES        MR. RUBEN TORRES 1965-12-08   \n",
       "3        11003    MS.    CHRISTY      ZHU         MS. CHRISTY ZHU 1968-02-15   \n",
       "4        11004   MRS.  ELIZABETH  JOHNSON  MRS. ELIZABETH JOHNSON 1968-08-08   \n",
       "\n",
       "  MaritalStatus Gender                EmailAddress AnnualIncome  \\\n",
       "0             M      M       jon24@learnsector.com     $90,000    \n",
       "1             S      M    eugene10@learnsector.com     $60,000    \n",
       "2             M      M     ruben35@learnsector.com     $60,000    \n",
       "3             S      F   christy12@learnsector.com     $70,000    \n",
       "4             S      F  elizabeth5@learnsector.com     $80,000    \n",
       "\n",
       "   TotalChildren EducationLevel    Occupation HomeOwner  \n",
       "0              2      Bachelors  Professional         Y  \n",
       "1              3      Bachelors  Professional         N  \n",
       "2              3      Bachelors  Professional         Y  \n",
       "3              0      Bachelors  Professional         N  \n",
       "4              5      Bachelors  Professional         Y  "
      ]
     },
     "execution_count": 7,
     "metadata": {},
     "output_type": "execute_result"
    }
   ],
   "source": [
    "df.head()"
   ]
  },
  {
   "cell_type": "code",
   "execution_count": 8,
   "id": "5b842cc5",
   "metadata": {},
   "outputs": [
    {
     "name": "stdout",
     "output_type": "stream",
     "text": [
      "<class 'pandas.core.frame.DataFrame'>\n",
      "RangeIndex: 18148 entries, 0 to 18147\n",
      "Data columns (total 14 columns):\n",
      " #   Column          Non-Null Count  Dtype         \n",
      "---  ------          --------------  -----         \n",
      " 0   CustomerKey     18148 non-null  int64         \n",
      " 1   Prefix          18018 non-null  object        \n",
      " 2   FirstName       18148 non-null  object        \n",
      " 3   LastName        18148 non-null  object        \n",
      " 4   FullName        18148 non-null  object        \n",
      " 5   BirthDate       18148 non-null  datetime64[ns]\n",
      " 6   MaritalStatus   18148 non-null  object        \n",
      " 7   Gender          18018 non-null  object        \n",
      " 8   EmailAddress    18148 non-null  object        \n",
      " 9   AnnualIncome    18148 non-null  object        \n",
      " 10  TotalChildren   18148 non-null  int64         \n",
      " 11  EducationLevel  18148 non-null  object        \n",
      " 12  Occupation      18148 non-null  object        \n",
      " 13  HomeOwner       18148 non-null  object        \n",
      "dtypes: datetime64[ns](1), int64(2), object(11)\n",
      "memory usage: 1.9+ MB\n"
     ]
    }
   ],
   "source": [
    "df.info()"
   ]
  },
  {
   "cell_type": "markdown",
   "id": "5de6843e",
   "metadata": {},
   "source": [
    "__Observation__: Only `Gender` and `Prefix` have missing values."
   ]
  },
  {
   "cell_type": "code",
   "execution_count": 9,
   "id": "13e9c80f",
   "metadata": {},
   "outputs": [
    {
     "data": {
      "text/plain": [
       "CustomerKey       0.000000\n",
       "Prefix            0.007163\n",
       "FirstName         0.000000\n",
       "LastName          0.000000\n",
       "FullName          0.000000\n",
       "BirthDate         0.000000\n",
       "MaritalStatus     0.000000\n",
       "Gender            0.007163\n",
       "EmailAddress      0.000000\n",
       "AnnualIncome      0.000000\n",
       "TotalChildren     0.000000\n",
       "EducationLevel    0.000000\n",
       "Occupation        0.000000\n",
       "HomeOwner         0.000000\n",
       "dtype: float64"
      ]
     },
     "execution_count": 9,
     "metadata": {},
     "output_type": "execute_result"
    }
   ],
   "source": [
    "(df.isnull().sum()/df.count()[0])"
   ]
  },
  {
   "cell_type": "code",
   "execution_count": 10,
   "id": "45ea6497",
   "metadata": {},
   "outputs": [],
   "source": [
    "# Replace `Gender` and `Prefix` with the most frequent entry per column size the missing values make up for <1%\n",
    "\n",
    "df[\"Gender\"] = df[\"Gender\"].fillna(df[\"Gender\"].value_counts().index[0])\n",
    "df[\"Prefix\"] = df[\"Prefix\"].fillna(df[\"Prefix\"].value_counts().index[0])"
   ]
  },
  {
   "cell_type": "code",
   "execution_count": 11,
   "id": "aa3a0c68",
   "metadata": {
    "scrolled": false
   },
   "outputs": [
    {
     "name": "stdout",
     "output_type": "stream",
     "text": [
      "<class 'pandas.core.frame.DataFrame'>\n",
      "RangeIndex: 18148 entries, 0 to 18147\n",
      "Data columns (total 14 columns):\n",
      " #   Column          Non-Null Count  Dtype         \n",
      "---  ------          --------------  -----         \n",
      " 0   CustomerKey     18148 non-null  int64         \n",
      " 1   Prefix          18148 non-null  object        \n",
      " 2   FirstName       18148 non-null  object        \n",
      " 3   LastName        18148 non-null  object        \n",
      " 4   FullName        18148 non-null  object        \n",
      " 5   BirthDate       18148 non-null  datetime64[ns]\n",
      " 6   MaritalStatus   18148 non-null  object        \n",
      " 7   Gender          18148 non-null  object        \n",
      " 8   EmailAddress    18148 non-null  object        \n",
      " 9   AnnualIncome    18148 non-null  object        \n",
      " 10  TotalChildren   18148 non-null  int64         \n",
      " 11  EducationLevel  18148 non-null  object        \n",
      " 12  Occupation      18148 non-null  object        \n",
      " 13  HomeOwner       18148 non-null  object        \n",
      "dtypes: datetime64[ns](1), int64(2), object(11)\n",
      "memory usage: 1.9+ MB\n"
     ]
    }
   ],
   "source": [
    "df.info()"
   ]
  },
  {
   "cell_type": "code",
   "execution_count": 12,
   "id": "a02a9fec",
   "metadata": {},
   "outputs": [],
   "source": [
    "# Convert `TotalChildren` and `AnnualIncome` to integers\n",
    "\n",
    "df.TotalChildren = df.TotalChildren.astype(\"int\")\n",
    "\n",
    "df.AnnualIncome = df.AnnualIncome.apply(lambda x : re.sub(r\"[$,]\", \"\", x))\n",
    "df.AnnualIncome = df.AnnualIncome.astype(\"int\")"
   ]
  },
  {
   "cell_type": "code",
   "execution_count": null,
   "id": "57c0c525",
   "metadata": {},
   "outputs": [],
   "source": []
  },
  {
   "cell_type": "code",
   "execution_count": 13,
   "id": "4ede34c9",
   "metadata": {},
   "outputs": [],
   "source": [
    "# Generate `age` column\n",
    "today = pd.Timestamp(\"today\")\n",
    "\n",
    "df[\"Age\"] = ((today - df[\"BirthDate\"])/pd.Timedelta(days=365.25)).round().astype(\"int\")"
   ]
  },
  {
   "cell_type": "code",
   "execution_count": 14,
   "id": "9f7b4fd1",
   "metadata": {},
   "outputs": [
    {
     "name": "stdout",
     "output_type": "stream",
     "text": [
      "<class 'pandas.core.frame.DataFrame'>\n",
      "RangeIndex: 18148 entries, 0 to 18147\n",
      "Data columns (total 15 columns):\n",
      " #   Column          Non-Null Count  Dtype         \n",
      "---  ------          --------------  -----         \n",
      " 0   CustomerKey     18148 non-null  int64         \n",
      " 1   Prefix          18148 non-null  object        \n",
      " 2   FirstName       18148 non-null  object        \n",
      " 3   LastName        18148 non-null  object        \n",
      " 4   FullName        18148 non-null  object        \n",
      " 5   BirthDate       18148 non-null  datetime64[ns]\n",
      " 6   MaritalStatus   18148 non-null  object        \n",
      " 7   Gender          18148 non-null  object        \n",
      " 8   EmailAddress    18148 non-null  object        \n",
      " 9   AnnualIncome    18148 non-null  int32         \n",
      " 10  TotalChildren   18148 non-null  int32         \n",
      " 11  EducationLevel  18148 non-null  object        \n",
      " 12  Occupation      18148 non-null  object        \n",
      " 13  HomeOwner       18148 non-null  object        \n",
      " 14  Age             18148 non-null  int32         \n",
      "dtypes: datetime64[ns](1), int32(3), int64(1), object(10)\n",
      "memory usage: 1.9+ MB\n"
     ]
    }
   ],
   "source": [
    "df.info()"
   ]
  },
  {
   "cell_type": "code",
   "execution_count": 17,
   "id": "fe2d171e",
   "metadata": {},
   "outputs": [
    {
     "name": "stderr",
     "output_type": "stream",
     "text": [
      "\n",
      "KeyboardInterrupt\n",
      "\n"
     ]
    }
   ],
   "source": [
    "df.drop(\"CustomerKey\", axis = 1, inplace = True)"
   ]
  },
  {
   "cell_type": "code",
   "execution_count": 18,
   "id": "c7c198f5",
   "metadata": {},
   "outputs": [
    {
     "data": {
      "text/html": [
       "<div>\n",
       "<style scoped>\n",
       "    .dataframe tbody tr th:only-of-type {\n",
       "        vertical-align: middle;\n",
       "    }\n",
       "\n",
       "    .dataframe tbody tr th {\n",
       "        vertical-align: top;\n",
       "    }\n",
       "\n",
       "    .dataframe thead th {\n",
       "        text-align: right;\n",
       "    }\n",
       "</style>\n",
       "<table border=\"1\" class=\"dataframe\">\n",
       "  <thead>\n",
       "    <tr style=\"text-align: right;\">\n",
       "      <th></th>\n",
       "      <th>Prefix</th>\n",
       "      <th>FirstName</th>\n",
       "      <th>LastName</th>\n",
       "      <th>FullName</th>\n",
       "      <th>BirthDate</th>\n",
       "      <th>MaritalStatus</th>\n",
       "      <th>Gender</th>\n",
       "      <th>EmailAddress</th>\n",
       "      <th>AnnualIncome</th>\n",
       "      <th>TotalChildren</th>\n",
       "      <th>EducationLevel</th>\n",
       "      <th>Occupation</th>\n",
       "      <th>HomeOwner</th>\n",
       "      <th>Age</th>\n",
       "    </tr>\n",
       "  </thead>\n",
       "  <tbody>\n",
       "    <tr>\n",
       "      <th>0</th>\n",
       "      <td>MR.</td>\n",
       "      <td>JON</td>\n",
       "      <td>YANG</td>\n",
       "      <td>MR. JON YANG</td>\n",
       "      <td>1966-08-04</td>\n",
       "      <td>M</td>\n",
       "      <td>M</td>\n",
       "      <td>jon24@learnsector.com</td>\n",
       "      <td>90000</td>\n",
       "      <td>2</td>\n",
       "      <td>Bachelors</td>\n",
       "      <td>Professional</td>\n",
       "      <td>Y</td>\n",
       "      <td>58</td>\n",
       "    </tr>\n",
       "    <tr>\n",
       "      <th>1</th>\n",
       "      <td>MR.</td>\n",
       "      <td>EUGENE</td>\n",
       "      <td>HUANG</td>\n",
       "      <td>MR. EUGENE HUANG</td>\n",
       "      <td>1965-05-14</td>\n",
       "      <td>S</td>\n",
       "      <td>M</td>\n",
       "      <td>eugene10@learnsector.com</td>\n",
       "      <td>60000</td>\n",
       "      <td>3</td>\n",
       "      <td>Bachelors</td>\n",
       "      <td>Professional</td>\n",
       "      <td>N</td>\n",
       "      <td>59</td>\n",
       "    </tr>\n",
       "    <tr>\n",
       "      <th>2</th>\n",
       "      <td>MR.</td>\n",
       "      <td>RUBEN</td>\n",
       "      <td>TORRES</td>\n",
       "      <td>MR. RUBEN TORRES</td>\n",
       "      <td>1965-12-08</td>\n",
       "      <td>M</td>\n",
       "      <td>M</td>\n",
       "      <td>ruben35@learnsector.com</td>\n",
       "      <td>60000</td>\n",
       "      <td>3</td>\n",
       "      <td>Bachelors</td>\n",
       "      <td>Professional</td>\n",
       "      <td>Y</td>\n",
       "      <td>58</td>\n",
       "    </tr>\n",
       "    <tr>\n",
       "      <th>3</th>\n",
       "      <td>MS.</td>\n",
       "      <td>CHRISTY</td>\n",
       "      <td>ZHU</td>\n",
       "      <td>MS. CHRISTY ZHU</td>\n",
       "      <td>1968-02-15</td>\n",
       "      <td>S</td>\n",
       "      <td>F</td>\n",
       "      <td>christy12@learnsector.com</td>\n",
       "      <td>70000</td>\n",
       "      <td>0</td>\n",
       "      <td>Bachelors</td>\n",
       "      <td>Professional</td>\n",
       "      <td>N</td>\n",
       "      <td>56</td>\n",
       "    </tr>\n",
       "    <tr>\n",
       "      <th>4</th>\n",
       "      <td>MRS.</td>\n",
       "      <td>ELIZABETH</td>\n",
       "      <td>JOHNSON</td>\n",
       "      <td>MRS. ELIZABETH JOHNSON</td>\n",
       "      <td>1968-08-08</td>\n",
       "      <td>S</td>\n",
       "      <td>F</td>\n",
       "      <td>elizabeth5@learnsector.com</td>\n",
       "      <td>80000</td>\n",
       "      <td>5</td>\n",
       "      <td>Bachelors</td>\n",
       "      <td>Professional</td>\n",
       "      <td>Y</td>\n",
       "      <td>56</td>\n",
       "    </tr>\n",
       "  </tbody>\n",
       "</table>\n",
       "</div>"
      ],
      "text/plain": [
       "  Prefix  FirstName LastName                FullName  BirthDate MaritalStatus  \\\n",
       "0    MR.        JON     YANG            MR. JON YANG 1966-08-04             M   \n",
       "1    MR.     EUGENE    HUANG        MR. EUGENE HUANG 1965-05-14             S   \n",
       "2    MR.      RUBEN   TORRES        MR. RUBEN TORRES 1965-12-08             M   \n",
       "3    MS.    CHRISTY      ZHU         MS. CHRISTY ZHU 1968-02-15             S   \n",
       "4   MRS.  ELIZABETH  JOHNSON  MRS. ELIZABETH JOHNSON 1968-08-08             S   \n",
       "\n",
       "  Gender                EmailAddress  AnnualIncome  TotalChildren  \\\n",
       "0      M       jon24@learnsector.com         90000              2   \n",
       "1      M    eugene10@learnsector.com         60000              3   \n",
       "2      M     ruben35@learnsector.com         60000              3   \n",
       "3      F   christy12@learnsector.com         70000              0   \n",
       "4      F  elizabeth5@learnsector.com         80000              5   \n",
       "\n",
       "  EducationLevel    Occupation HomeOwner  Age  \n",
       "0      Bachelors  Professional         Y   58  \n",
       "1      Bachelors  Professional         N   59  \n",
       "2      Bachelors  Professional         Y   58  \n",
       "3      Bachelors  Professional         N   56  \n",
       "4      Bachelors  Professional         Y   56  "
      ]
     },
     "execution_count": 18,
     "metadata": {},
     "output_type": "execute_result"
    }
   ],
   "source": [
    "df.head()"
   ]
  },
  {
   "cell_type": "markdown",
   "id": "207a3c7b",
   "metadata": {},
   "source": [
    "## Since this is a classification problem, we will be using the following models\n",
    "1. LogisticRegression\n",
    "2. RandomForestClassifier"
   ]
  },
  {
   "cell_type": "code",
   "execution_count": 42,
   "id": "0899ef0b",
   "metadata": {},
   "outputs": [],
   "source": [
    "COLUMNS = [\"MaritalStatus\", \"Gender\", \"AnnualIncome\", \"TotalChildren\", \"EducationLevel\", \"Occupation\", \"Age\",\"HomeOwner\"]"
   ]
  },
  {
   "cell_type": "code",
   "execution_count": 43,
   "id": "4f1e4741",
   "metadata": {},
   "outputs": [
    {
     "name": "stdout",
     "output_type": "stream",
     "text": [
      "(18148, 8)\n"
     ]
    },
    {
     "data": {
      "text/html": [
       "<div>\n",
       "<style scoped>\n",
       "    .dataframe tbody tr th:only-of-type {\n",
       "        vertical-align: middle;\n",
       "    }\n",
       "\n",
       "    .dataframe tbody tr th {\n",
       "        vertical-align: top;\n",
       "    }\n",
       "\n",
       "    .dataframe thead th {\n",
       "        text-align: right;\n",
       "    }\n",
       "</style>\n",
       "<table border=\"1\" class=\"dataframe\">\n",
       "  <thead>\n",
       "    <tr style=\"text-align: right;\">\n",
       "      <th></th>\n",
       "      <th>MaritalStatus</th>\n",
       "      <th>Gender</th>\n",
       "      <th>AnnualIncome</th>\n",
       "      <th>TotalChildren</th>\n",
       "      <th>EducationLevel</th>\n",
       "      <th>Occupation</th>\n",
       "      <th>Age</th>\n",
       "      <th>HomeOwner</th>\n",
       "    </tr>\n",
       "  </thead>\n",
       "  <tbody>\n",
       "    <tr>\n",
       "      <th>0</th>\n",
       "      <td>M</td>\n",
       "      <td>M</td>\n",
       "      <td>90000</td>\n",
       "      <td>2</td>\n",
       "      <td>Bachelors</td>\n",
       "      <td>Professional</td>\n",
       "      <td>58</td>\n",
       "      <td>Y</td>\n",
       "    </tr>\n",
       "    <tr>\n",
       "      <th>1</th>\n",
       "      <td>S</td>\n",
       "      <td>M</td>\n",
       "      <td>60000</td>\n",
       "      <td>3</td>\n",
       "      <td>Bachelors</td>\n",
       "      <td>Professional</td>\n",
       "      <td>59</td>\n",
       "      <td>N</td>\n",
       "    </tr>\n",
       "    <tr>\n",
       "      <th>2</th>\n",
       "      <td>M</td>\n",
       "      <td>M</td>\n",
       "      <td>60000</td>\n",
       "      <td>3</td>\n",
       "      <td>Bachelors</td>\n",
       "      <td>Professional</td>\n",
       "      <td>58</td>\n",
       "      <td>Y</td>\n",
       "    </tr>\n",
       "    <tr>\n",
       "      <th>3</th>\n",
       "      <td>S</td>\n",
       "      <td>F</td>\n",
       "      <td>70000</td>\n",
       "      <td>0</td>\n",
       "      <td>Bachelors</td>\n",
       "      <td>Professional</td>\n",
       "      <td>56</td>\n",
       "      <td>N</td>\n",
       "    </tr>\n",
       "    <tr>\n",
       "      <th>4</th>\n",
       "      <td>S</td>\n",
       "      <td>F</td>\n",
       "      <td>80000</td>\n",
       "      <td>5</td>\n",
       "      <td>Bachelors</td>\n",
       "      <td>Professional</td>\n",
       "      <td>56</td>\n",
       "      <td>Y</td>\n",
       "    </tr>\n",
       "  </tbody>\n",
       "</table>\n",
       "</div>"
      ],
      "text/plain": [
       "  MaritalStatus Gender  AnnualIncome  TotalChildren EducationLevel  \\\n",
       "0             M      M         90000              2      Bachelors   \n",
       "1             S      M         60000              3      Bachelors   \n",
       "2             M      M         60000              3      Bachelors   \n",
       "3             S      F         70000              0      Bachelors   \n",
       "4             S      F         80000              5      Bachelors   \n",
       "\n",
       "     Occupation  Age HomeOwner  \n",
       "0  Professional   58         Y  \n",
       "1  Professional   59         N  \n",
       "2  Professional   58         Y  \n",
       "3  Professional   56         N  \n",
       "4  Professional   56         Y  "
      ]
     },
     "execution_count": 43,
     "metadata": {},
     "output_type": "execute_result"
    }
   ],
   "source": [
    "df_use = df[COLUMNS]\n",
    "print(df_use.shape)\n",
    "df_use.head()"
   ]
  },
  {
   "cell_type": "code",
   "execution_count": 86,
   "id": "f21acd85",
   "metadata": {},
   "outputs": [
    {
     "data": {
      "text/html": [
       "<div>\n",
       "<style scoped>\n",
       "    .dataframe tbody tr th:only-of-type {\n",
       "        vertical-align: middle;\n",
       "    }\n",
       "\n",
       "    .dataframe tbody tr th {\n",
       "        vertical-align: top;\n",
       "    }\n",
       "\n",
       "    .dataframe thead th {\n",
       "        text-align: right;\n",
       "    }\n",
       "</style>\n",
       "<table border=\"1\" class=\"dataframe\">\n",
       "  <thead>\n",
       "    <tr style=\"text-align: right;\">\n",
       "      <th></th>\n",
       "      <th>AnnualIncome</th>\n",
       "      <th>TotalChildren</th>\n",
       "      <th>Age</th>\n",
       "      <th>MaritalStatus_M</th>\n",
       "      <th>MaritalStatus_S</th>\n",
       "      <th>Gender_F</th>\n",
       "      <th>Gender_M</th>\n",
       "      <th>EducationLevel_Bachelors</th>\n",
       "      <th>EducationLevel_Graduate Degree</th>\n",
       "      <th>EducationLevel_High School</th>\n",
       "      <th>EducationLevel_Partial College</th>\n",
       "      <th>EducationLevel_Partial High School</th>\n",
       "      <th>Occupation_Clerical</th>\n",
       "      <th>Occupation_Management</th>\n",
       "      <th>Occupation_Manual</th>\n",
       "      <th>Occupation_Professional</th>\n",
       "      <th>Occupation_Skilled Manual</th>\n",
       "    </tr>\n",
       "  </thead>\n",
       "  <tbody>\n",
       "    <tr>\n",
       "      <th>0</th>\n",
       "      <td>90000</td>\n",
       "      <td>2</td>\n",
       "      <td>58</td>\n",
       "      <td>1</td>\n",
       "      <td>0</td>\n",
       "      <td>0</td>\n",
       "      <td>1</td>\n",
       "      <td>1</td>\n",
       "      <td>0</td>\n",
       "      <td>0</td>\n",
       "      <td>0</td>\n",
       "      <td>0</td>\n",
       "      <td>0</td>\n",
       "      <td>0</td>\n",
       "      <td>0</td>\n",
       "      <td>1</td>\n",
       "      <td>0</td>\n",
       "    </tr>\n",
       "    <tr>\n",
       "      <th>1</th>\n",
       "      <td>60000</td>\n",
       "      <td>3</td>\n",
       "      <td>59</td>\n",
       "      <td>0</td>\n",
       "      <td>1</td>\n",
       "      <td>0</td>\n",
       "      <td>1</td>\n",
       "      <td>1</td>\n",
       "      <td>0</td>\n",
       "      <td>0</td>\n",
       "      <td>0</td>\n",
       "      <td>0</td>\n",
       "      <td>0</td>\n",
       "      <td>0</td>\n",
       "      <td>0</td>\n",
       "      <td>1</td>\n",
       "      <td>0</td>\n",
       "    </tr>\n",
       "    <tr>\n",
       "      <th>2</th>\n",
       "      <td>60000</td>\n",
       "      <td>3</td>\n",
       "      <td>58</td>\n",
       "      <td>1</td>\n",
       "      <td>0</td>\n",
       "      <td>0</td>\n",
       "      <td>1</td>\n",
       "      <td>1</td>\n",
       "      <td>0</td>\n",
       "      <td>0</td>\n",
       "      <td>0</td>\n",
       "      <td>0</td>\n",
       "      <td>0</td>\n",
       "      <td>0</td>\n",
       "      <td>0</td>\n",
       "      <td>1</td>\n",
       "      <td>0</td>\n",
       "    </tr>\n",
       "    <tr>\n",
       "      <th>3</th>\n",
       "      <td>70000</td>\n",
       "      <td>0</td>\n",
       "      <td>56</td>\n",
       "      <td>0</td>\n",
       "      <td>1</td>\n",
       "      <td>1</td>\n",
       "      <td>0</td>\n",
       "      <td>1</td>\n",
       "      <td>0</td>\n",
       "      <td>0</td>\n",
       "      <td>0</td>\n",
       "      <td>0</td>\n",
       "      <td>0</td>\n",
       "      <td>0</td>\n",
       "      <td>0</td>\n",
       "      <td>1</td>\n",
       "      <td>0</td>\n",
       "    </tr>\n",
       "    <tr>\n",
       "      <th>4</th>\n",
       "      <td>80000</td>\n",
       "      <td>5</td>\n",
       "      <td>56</td>\n",
       "      <td>0</td>\n",
       "      <td>1</td>\n",
       "      <td>1</td>\n",
       "      <td>0</td>\n",
       "      <td>1</td>\n",
       "      <td>0</td>\n",
       "      <td>0</td>\n",
       "      <td>0</td>\n",
       "      <td>0</td>\n",
       "      <td>0</td>\n",
       "      <td>0</td>\n",
       "      <td>0</td>\n",
       "      <td>1</td>\n",
       "      <td>0</td>\n",
       "    </tr>\n",
       "    <tr>\n",
       "      <th>...</th>\n",
       "      <td>...</td>\n",
       "      <td>...</td>\n",
       "      <td>...</td>\n",
       "      <td>...</td>\n",
       "      <td>...</td>\n",
       "      <td>...</td>\n",
       "      <td>...</td>\n",
       "      <td>...</td>\n",
       "      <td>...</td>\n",
       "      <td>...</td>\n",
       "      <td>...</td>\n",
       "      <td>...</td>\n",
       "      <td>...</td>\n",
       "      <td>...</td>\n",
       "      <td>...</td>\n",
       "      <td>...</td>\n",
       "      <td>...</td>\n",
       "    </tr>\n",
       "    <tr>\n",
       "      <th>18143</th>\n",
       "      <td>30000</td>\n",
       "      <td>1</td>\n",
       "      <td>66</td>\n",
       "      <td>1</td>\n",
       "      <td>0</td>\n",
       "      <td>0</td>\n",
       "      <td>1</td>\n",
       "      <td>0</td>\n",
       "      <td>1</td>\n",
       "      <td>0</td>\n",
       "      <td>0</td>\n",
       "      <td>0</td>\n",
       "      <td>1</td>\n",
       "      <td>0</td>\n",
       "      <td>0</td>\n",
       "      <td>0</td>\n",
       "      <td>0</td>\n",
       "    </tr>\n",
       "    <tr>\n",
       "      <th>18144</th>\n",
       "      <td>30000</td>\n",
       "      <td>3</td>\n",
       "      <td>63</td>\n",
       "      <td>0</td>\n",
       "      <td>1</td>\n",
       "      <td>1</td>\n",
       "      <td>0</td>\n",
       "      <td>0</td>\n",
       "      <td>1</td>\n",
       "      <td>0</td>\n",
       "      <td>0</td>\n",
       "      <td>0</td>\n",
       "      <td>1</td>\n",
       "      <td>0</td>\n",
       "      <td>0</td>\n",
       "      <td>0</td>\n",
       "      <td>0</td>\n",
       "    </tr>\n",
       "    <tr>\n",
       "      <th>18145</th>\n",
       "      <td>30000</td>\n",
       "      <td>3</td>\n",
       "      <td>64</td>\n",
       "      <td>0</td>\n",
       "      <td>1</td>\n",
       "      <td>0</td>\n",
       "      <td>1</td>\n",
       "      <td>0</td>\n",
       "      <td>1</td>\n",
       "      <td>0</td>\n",
       "      <td>0</td>\n",
       "      <td>0</td>\n",
       "      <td>1</td>\n",
       "      <td>0</td>\n",
       "      <td>0</td>\n",
       "      <td>0</td>\n",
       "      <td>0</td>\n",
       "    </tr>\n",
       "    <tr>\n",
       "      <th>18146</th>\n",
       "      <td>30000</td>\n",
       "      <td>3</td>\n",
       "      <td>65</td>\n",
       "      <td>1</td>\n",
       "      <td>0</td>\n",
       "      <td>0</td>\n",
       "      <td>1</td>\n",
       "      <td>1</td>\n",
       "      <td>0</td>\n",
       "      <td>0</td>\n",
       "      <td>0</td>\n",
       "      <td>0</td>\n",
       "      <td>1</td>\n",
       "      <td>0</td>\n",
       "      <td>0</td>\n",
       "      <td>0</td>\n",
       "      <td>0</td>\n",
       "    </tr>\n",
       "    <tr>\n",
       "      <th>18147</th>\n",
       "      <td>30000</td>\n",
       "      <td>0</td>\n",
       "      <td>65</td>\n",
       "      <td>1</td>\n",
       "      <td>0</td>\n",
       "      <td>0</td>\n",
       "      <td>1</td>\n",
       "      <td>1</td>\n",
       "      <td>0</td>\n",
       "      <td>0</td>\n",
       "      <td>0</td>\n",
       "      <td>0</td>\n",
       "      <td>1</td>\n",
       "      <td>0</td>\n",
       "      <td>0</td>\n",
       "      <td>0</td>\n",
       "      <td>0</td>\n",
       "    </tr>\n",
       "  </tbody>\n",
       "</table>\n",
       "<p>18148 rows × 17 columns</p>\n",
       "</div>"
      ],
      "text/plain": [
       "       AnnualIncome  TotalChildren  Age  MaritalStatus_M  MaritalStatus_S  \\\n",
       "0             90000              2   58                1                0   \n",
       "1             60000              3   59                0                1   \n",
       "2             60000              3   58                1                0   \n",
       "3             70000              0   56                0                1   \n",
       "4             80000              5   56                0                1   \n",
       "...             ...            ...  ...              ...              ...   \n",
       "18143         30000              1   66                1                0   \n",
       "18144         30000              3   63                0                1   \n",
       "18145         30000              3   64                0                1   \n",
       "18146         30000              3   65                1                0   \n",
       "18147         30000              0   65                1                0   \n",
       "\n",
       "       Gender_F  Gender_M  EducationLevel_Bachelors  \\\n",
       "0             0         1                         1   \n",
       "1             0         1                         1   \n",
       "2             0         1                         1   \n",
       "3             1         0                         1   \n",
       "4             1         0                         1   \n",
       "...         ...       ...                       ...   \n",
       "18143         0         1                         0   \n",
       "18144         1         0                         0   \n",
       "18145         0         1                         0   \n",
       "18146         0         1                         1   \n",
       "18147         0         1                         1   \n",
       "\n",
       "       EducationLevel_Graduate Degree  EducationLevel_High School  \\\n",
       "0                                   0                           0   \n",
       "1                                   0                           0   \n",
       "2                                   0                           0   \n",
       "3                                   0                           0   \n",
       "4                                   0                           0   \n",
       "...                               ...                         ...   \n",
       "18143                               1                           0   \n",
       "18144                               1                           0   \n",
       "18145                               1                           0   \n",
       "18146                               0                           0   \n",
       "18147                               0                           0   \n",
       "\n",
       "       EducationLevel_Partial College  EducationLevel_Partial High School  \\\n",
       "0                                   0                                   0   \n",
       "1                                   0                                   0   \n",
       "2                                   0                                   0   \n",
       "3                                   0                                   0   \n",
       "4                                   0                                   0   \n",
       "...                               ...                                 ...   \n",
       "18143                               0                                   0   \n",
       "18144                               0                                   0   \n",
       "18145                               0                                   0   \n",
       "18146                               0                                   0   \n",
       "18147                               0                                   0   \n",
       "\n",
       "       Occupation_Clerical  Occupation_Management  Occupation_Manual  \\\n",
       "0                        0                      0                  0   \n",
       "1                        0                      0                  0   \n",
       "2                        0                      0                  0   \n",
       "3                        0                      0                  0   \n",
       "4                        0                      0                  0   \n",
       "...                    ...                    ...                ...   \n",
       "18143                    1                      0                  0   \n",
       "18144                    1                      0                  0   \n",
       "18145                    1                      0                  0   \n",
       "18146                    1                      0                  0   \n",
       "18147                    1                      0                  0   \n",
       "\n",
       "       Occupation_Professional  Occupation_Skilled Manual  \n",
       "0                            1                          0  \n",
       "1                            1                          0  \n",
       "2                            1                          0  \n",
       "3                            1                          0  \n",
       "4                            1                          0  \n",
       "...                        ...                        ...  \n",
       "18143                        0                          0  \n",
       "18144                        0                          0  \n",
       "18145                        0                          0  \n",
       "18146                        0                          0  \n",
       "18147                        0                          0  \n",
       "\n",
       "[18148 rows x 17 columns]"
      ]
     },
     "execution_count": 86,
     "metadata": {},
     "output_type": "execute_result"
    }
   ],
   "source": [
    "pd.get_dummies(df_use.drop(\"HomeOwner\", axis = 1))"
   ]
  },
  {
   "cell_type": "code",
   "execution_count": 74,
   "id": "c0a6388d",
   "metadata": {},
   "outputs": [],
   "source": [
    "from sklearn.pipeline import Pipeline\n",
    "from sklearn.linear_model import LogisticRegression\n",
    "from sklearn.neighbors import KNeighborsClassifier\n",
    "from sklearn.model_selection import train_test_split, KFold, cross_val_score\n",
    "from sklearn.ensemble import RandomForestClassifier\n",
    "from imblearn.over_sampling import RandomOverSampler"
   ]
  },
  {
   "cell_type": "code",
   "execution_count": 75,
   "id": "ff26c7c8",
   "metadata": {},
   "outputs": [],
   "source": [
    "X = pd.get_dummies(df_use.drop(\"HomeOwner\", axis = 1))\n",
    "y = df_use[\"HomeOwner\"]"
   ]
  },
  {
   "cell_type": "code",
   "execution_count": 76,
   "id": "c43a4657",
   "metadata": {},
   "outputs": [],
   "source": [
    "X_train, X_test, y_train, y_test = train_test_split(X, y, test_size= 0.2, random_state= 42)"
   ]
  },
  {
   "cell_type": "markdown",
   "id": "f55c21b6",
   "metadata": {},
   "source": [
    "## No Sampling"
   ]
  },
  {
   "cell_type": "code",
   "execution_count": 63,
   "id": "db5291c2",
   "metadata": {},
   "outputs": [],
   "source": [
    "models = {\n",
    "    \"lr\": LogisticRegression(),\n",
    "    \"knn\":KNeighborsClassifier(),\n",
    "    \"rfc\": RandomForestClassifier()\n",
    "}"
   ]
  },
  {
   "cell_type": "code",
   "execution_count": null,
   "id": "43482149",
   "metadata": {},
   "outputs": [],
   "source": [
    "results = []\n",
    "for model in models.values():\n",
    "    kf = KFold(n_splits= 6, shuffle = True, random_state= 42)\n",
    "    cv_results = cross_val_score(model, X_train, y_train, cv= kf)\n",
    "    results.append(cv_results)\n",
    "results"
   ]
  },
  {
   "cell_type": "code",
   "execution_count": 67,
   "id": "35a56dff",
   "metadata": {},
   "outputs": [
    {
     "data": {
      "image/png": "[encoded data removed]",
      "text/plain": [
       "<Figure size 640x480 with 1 Axes>"
      ]
     },
     "metadata": {},
     "output_type": "display_data"
    }
   ],
   "source": [
    "plt.boxplot(results, labels= models.keys());"
   ]
  },
  {
   "cell_type": "code",
   "execution_count": 68,
   "id": "b056d33f",
   "metadata": {},
   "outputs": [
    {
     "name": "stdout",
     "output_type": "stream",
     "text": [
      "lr's score: 0.6738292011019283\n",
      "knn's score: 0.7363636363636363\n",
      "rfc's score: 0.7424242424242424\n"
     ]
    }
   ],
   "source": [
    "for name, model in models.items():\n",
    "    model.fit(X_train, y_train)\n",
    "    test_score = model.score(X_test,y_test)\n",
    "    print(f\"{name}'s score: {test_score}\")"
   ]
  },
  {
   "cell_type": "markdown",
   "id": "f690d4c9",
   "metadata": {},
   "source": [
    "## Over Sampling"
   ]
  },
  {
   "cell_type": "code",
   "execution_count": 77,
   "id": "ad00c182",
   "metadata": {},
   "outputs": [],
   "source": [
    "over_sampler = RandomOverSampler(random_state= 42)\n",
    "X_train_over, y_train_over = over_sampler.fit_resample(X_train, y_train)"
   ]
  },
  {
   "cell_type": "code",
   "execution_count": 78,
   "id": "d9a71ddb",
   "metadata": {},
   "outputs": [
    {
     "data": {
      "text/plain": [
       "[array([0.49724939, 0.51100244, 0.49831856, 0.4955671 , 0.49648426,\n",
       "        0.61204525]),\n",
       " array([0.74908313, 0.73410758, 0.73127484, 0.74747784, 0.7395292 ,\n",
       "        0.74380923]),\n",
       " array([0.7707824 , 0.76253056, 0.76031795, 0.7722409 , 0.76734943,\n",
       "        0.77529807])]"
      ]
     },
     "execution_count": 78,
     "metadata": {},
     "output_type": "execute_result"
    }
   ],
   "source": [
    "results = []\n",
    "for model in models.values():\n",
    "    kf = KFold(n_splits= 6, shuffle = True, random_state= 42)\n",
    "    cv_results = cross_val_score(model, X_train_over, y_train_over, cv= kf)\n",
    "    results.append(cv_results)\n",
    "results"
   ]
  },
  {
   "cell_type": "code",
   "execution_count": 79,
   "id": "ccf32c9a",
   "metadata": {},
   "outputs": [
    {
     "data": {
      "image/png": "[encoded data removed]",
      "text/plain": [
       "<Figure size 640x480 with 1 Axes>"
      ]
     },
     "metadata": {},
     "output_type": "display_data"
    }
   ],
   "source": [
    "plt.boxplot(results, labels= models.keys());"
   ]
  },
  {
   "cell_type": "code",
   "execution_count": 80,
   "id": "790d7e9b",
   "metadata": {},
   "outputs": [
    {
     "name": "stdout",
     "output_type": "stream",
     "text": [
      "lr's score: 0.5975206611570248\n",
      "knn's score: 0.7038567493112947\n",
      "rfc's score: 0.7121212121212122\n"
     ]
    }
   ],
   "source": [
    "for name, model in models.items():\n",
    "    model.fit(X_train_over, y_train_over)\n",
    "    test_score = model.score(X_test,y_test)\n",
    "    print(f\"{name}'s score: {test_score}\")"
   ]
  },
  {
   "cell_type": "markdown",
   "id": "8697b897",
   "metadata": {},
   "source": [
    "---"
   ]
  },
  {
   "cell_type": "code",
   "execution_count": 60,
   "id": "af3ea6f3",
   "metadata": {},
   "outputs": [],
   "source": [
    "steps = [\n",
    "    (\"lr\", LogisticRegression())\n",
    "]\n",
    "pipeline = Pipeline(steps)"
   ]
  },
  {
   "cell_type": "code",
   "execution_count": 61,
   "id": "476c5a93",
   "metadata": {},
   "outputs": [
    {
     "name": "stdout",
     "output_type": "stream",
     "text": [
      "Logistic Regression __train__ score: 0.6759884281581485\n",
      "Logistic Regression __test__ score: 0.6738292011019283\n"
     ]
    }
   ],
   "source": [
    "lr = LogisticRegression()\n",
    "pipeline.fit(X_train, y_train)\n",
    "print(f\"Logistic Regression __train__ score: {pipeline.score(X_train, y_train)}\")\n",
    "print(f\"Logistic Regression __test__ score: {pipeline.score(X_test, y_test)}\")"
   ]
  },
  {
   "cell_type": "code",
   "execution_count": 58,
   "id": "e61b821d",
   "metadata": {},
   "outputs": [
    {
     "name": "stdout",
     "output_type": "stream",
     "text": [
      "Logistic Regression __train__ score: 0.8385452541672407\n",
      "Logistic Regression __test__ score: 0.7449035812672177\n"
     ]
    }
   ],
   "source": [
    "rf = RandomForestClassifier(max_depth=42, random_state= 42, n_jobs=-1)\n",
    "rf.fit(X_train, y_train)\n",
    "print(f\"Logistic Regression __train__ score: {rf.score(X_train, y_train)}\")\n",
    "print(f\"Logistic Regression __test__ score: {rf.score(X_test, y_test)}\")"
   ]
  },
  {
   "cell_type": "code",
   "execution_count": null,
   "id": "9870e534",
   "metadata": {},
   "outputs": [],
   "source": []
  },
  {
   "cell_type": "markdown",
   "id": "52623ab4",
   "metadata": {},
   "source": [
    "# Second trial"
   ]
  },
  {
   "cell_type": "code",
   "execution_count": 91,
   "id": "a2b17e8f",
   "metadata": {},
   "outputs": [],
   "source": [
    "df2 = df_use.copy()"
   ]
  },
  {
   "cell_type": "code",
   "execution_count": 92,
   "id": "b1791918",
   "metadata": {},
   "outputs": [
    {
     "data": {
      "text/html": [
       "<div>\n",
       "<style scoped>\n",
       "    .dataframe tbody tr th:only-of-type {\n",
       "        vertical-align: middle;\n",
       "    }\n",
       "\n",
       "    .dataframe tbody tr th {\n",
       "        vertical-align: top;\n",
       "    }\n",
       "\n",
       "    .dataframe thead th {\n",
       "        text-align: right;\n",
       "    }\n",
       "</style>\n",
       "<table border=\"1\" class=\"dataframe\">\n",
       "  <thead>\n",
       "    <tr style=\"text-align: right;\">\n",
       "      <th></th>\n",
       "      <th>MaritalStatus</th>\n",
       "      <th>Gender</th>\n",
       "      <th>AnnualIncome</th>\n",
       "      <th>TotalChildren</th>\n",
       "      <th>EducationLevel</th>\n",
       "      <th>Occupation</th>\n",
       "      <th>Age</th>\n",
       "      <th>HomeOwner</th>\n",
       "    </tr>\n",
       "  </thead>\n",
       "  <tbody>\n",
       "    <tr>\n",
       "      <th>0</th>\n",
       "      <td>M</td>\n",
       "      <td>M</td>\n",
       "      <td>90000</td>\n",
       "      <td>2</td>\n",
       "      <td>Bachelors</td>\n",
       "      <td>Professional</td>\n",
       "      <td>58</td>\n",
       "      <td>Y</td>\n",
       "    </tr>\n",
       "    <tr>\n",
       "      <th>1</th>\n",
       "      <td>S</td>\n",
       "      <td>M</td>\n",
       "      <td>60000</td>\n",
       "      <td>3</td>\n",
       "      <td>Bachelors</td>\n",
       "      <td>Professional</td>\n",
       "      <td>59</td>\n",
       "      <td>N</td>\n",
       "    </tr>\n",
       "    <tr>\n",
       "      <th>2</th>\n",
       "      <td>M</td>\n",
       "      <td>M</td>\n",
       "      <td>60000</td>\n",
       "      <td>3</td>\n",
       "      <td>Bachelors</td>\n",
       "      <td>Professional</td>\n",
       "      <td>58</td>\n",
       "      <td>Y</td>\n",
       "    </tr>\n",
       "    <tr>\n",
       "      <th>3</th>\n",
       "      <td>S</td>\n",
       "      <td>F</td>\n",
       "      <td>70000</td>\n",
       "      <td>0</td>\n",
       "      <td>Bachelors</td>\n",
       "      <td>Professional</td>\n",
       "      <td>56</td>\n",
       "      <td>N</td>\n",
       "    </tr>\n",
       "    <tr>\n",
       "      <th>4</th>\n",
       "      <td>S</td>\n",
       "      <td>F</td>\n",
       "      <td>80000</td>\n",
       "      <td>5</td>\n",
       "      <td>Bachelors</td>\n",
       "      <td>Professional</td>\n",
       "      <td>56</td>\n",
       "      <td>Y</td>\n",
       "    </tr>\n",
       "  </tbody>\n",
       "</table>\n",
       "</div>"
      ],
      "text/plain": [
       "  MaritalStatus Gender  AnnualIncome  TotalChildren EducationLevel  \\\n",
       "0             M      M         90000              2      Bachelors   \n",
       "1             S      M         60000              3      Bachelors   \n",
       "2             M      M         60000              3      Bachelors   \n",
       "3             S      F         70000              0      Bachelors   \n",
       "4             S      F         80000              5      Bachelors   \n",
       "\n",
       "     Occupation  Age HomeOwner  \n",
       "0  Professional   58         Y  \n",
       "1  Professional   59         N  \n",
       "2  Professional   58         Y  \n",
       "3  Professional   56         N  \n",
       "4  Professional   56         Y  "
      ]
     },
     "execution_count": 92,
     "metadata": {},
     "output_type": "execute_result"
    }
   ],
   "source": [
    "df2.head()"
   ]
  },
  {
   "cell_type": "code",
   "execution_count": 94,
   "id": "170ee306",
   "metadata": {},
   "outputs": [
    {
     "name": "stdout",
     "output_type": "stream",
     "text": [
      "<class 'pandas.core.frame.DataFrame'>\n",
      "RangeIndex: 18148 entries, 0 to 18147\n",
      "Data columns (total 8 columns):\n",
      " #   Column          Non-Null Count  Dtype \n",
      "---  ------          --------------  ----- \n",
      " 0   MaritalStatus   18148 non-null  object\n",
      " 1   Gender          18148 non-null  object\n",
      " 2   AnnualIncome    18148 non-null  int32 \n",
      " 3   TotalChildren   18148 non-null  int32 \n",
      " 4   EducationLevel  18148 non-null  object\n",
      " 5   Occupation      18148 non-null  object\n",
      " 6   Age             18148 non-null  int32 \n",
      " 7   HomeOwner       18148 non-null  object\n",
      "dtypes: int32(3), object(5)\n",
      "memory usage: 921.7+ KB\n"
     ]
    }
   ],
   "source": [
    "df2.info()"
   ]
  },
  {
   "cell_type": "code",
   "execution_count": 95,
   "id": "00a6f356",
   "metadata": {},
   "outputs": [
    {
     "data": {
      "text/plain": [
       "array(['Bachelors', 'Partial College', 'High School',\n",
       "       'Partial High School', 'Graduate Degree'], dtype=object)"
      ]
     },
     "execution_count": 95,
     "metadata": {},
     "output_type": "execute_result"
    }
   ],
   "source": [
    "df2.EducationLevel.unique()"
   ]
  },
  {
   "cell_type": "code",
   "execution_count": 96,
   "id": "7396a289",
   "metadata": {},
   "outputs": [
    {
     "data": {
      "text/plain": [
       "array(['Professional', 'Management', 'Skilled Manual', 'Clerical',\n",
       "       'Manual'], dtype=object)"
      ]
     },
     "execution_count": 96,
     "metadata": {},
     "output_type": "execute_result"
    }
   ],
   "source": [
    "df2.Occupation.unique()"
   ]
  },
  {
   "cell_type": "code",
   "execution_count": 97,
   "id": "bdcbbc69",
   "metadata": {},
   "outputs": [
    {
     "data": {
      "text/plain": [
       "Occupation\n",
       "Manual            16472.588185\n",
       "Clerical          30696.047569\n",
       "Skilled Manual    51732.948234\n",
       "Professional      74166.666667\n",
       "Management        92218.532049\n",
       "Name: AnnualIncome, dtype: float64"
      ]
     },
     "execution_count": 97,
     "metadata": {},
     "output_type": "execute_result"
    }
   ],
   "source": [
    "df2.groupby(\"Occupation\")[\"AnnualIncome\"].mean().sort_values()"
   ]
  },
  {
   "cell_type": "code",
   "execution_count": 98,
   "id": "8c8eec13",
   "metadata": {},
   "outputs": [],
   "source": [
    "df2.Occupation = df2.Occupation.map({\n",
    "    \"Manual\":0,\n",
    "    \"Clerical\": 1,\n",
    "    \"Skilled Manual\": 2,\n",
    "    \"Professional\": 3,\n",
    "    \"Management\": 4\n",
    "}).astype('int')"
   ]
  },
  {
   "cell_type": "code",
   "execution_count": 99,
   "id": "0883cc40",
   "metadata": {},
   "outputs": [],
   "source": [
    "df2.EducationLevel = df2.EducationLevel.map({\n",
    "    \"Partial High School\":0,\n",
    "    \"High School\": 1,\n",
    "    \"Partial College\": 2,\n",
    "    \"Bachelors\": 3,\n",
    "    \"Graduate Degree\": 4\n",
    "}).astype(\"int\")"
   ]
  },
  {
   "cell_type": "code",
   "execution_count": 100,
   "id": "5c12e11f",
   "metadata": {},
   "outputs": [
    {
     "data": {
      "text/html": [
       "<div>\n",
       "<style scoped>\n",
       "    .dataframe tbody tr th:only-of-type {\n",
       "        vertical-align: middle;\n",
       "    }\n",
       "\n",
       "    .dataframe tbody tr th {\n",
       "        vertical-align: top;\n",
       "    }\n",
       "\n",
       "    .dataframe thead th {\n",
       "        text-align: right;\n",
       "    }\n",
       "</style>\n",
       "<table border=\"1\" class=\"dataframe\">\n",
       "  <thead>\n",
       "    <tr style=\"text-align: right;\">\n",
       "      <th></th>\n",
       "      <th>MaritalStatus</th>\n",
       "      <th>Gender</th>\n",
       "      <th>AnnualIncome</th>\n",
       "      <th>TotalChildren</th>\n",
       "      <th>EducationLevel</th>\n",
       "      <th>Occupation</th>\n",
       "      <th>Age</th>\n",
       "      <th>HomeOwner</th>\n",
       "    </tr>\n",
       "  </thead>\n",
       "  <tbody>\n",
       "    <tr>\n",
       "      <th>0</th>\n",
       "      <td>M</td>\n",
       "      <td>M</td>\n",
       "      <td>90000</td>\n",
       "      <td>2</td>\n",
       "      <td>3</td>\n",
       "      <td>3</td>\n",
       "      <td>58</td>\n",
       "      <td>Y</td>\n",
       "    </tr>\n",
       "    <tr>\n",
       "      <th>1</th>\n",
       "      <td>S</td>\n",
       "      <td>M</td>\n",
       "      <td>60000</td>\n",
       "      <td>3</td>\n",
       "      <td>3</td>\n",
       "      <td>3</td>\n",
       "      <td>59</td>\n",
       "      <td>N</td>\n",
       "    </tr>\n",
       "    <tr>\n",
       "      <th>2</th>\n",
       "      <td>M</td>\n",
       "      <td>M</td>\n",
       "      <td>60000</td>\n",
       "      <td>3</td>\n",
       "      <td>3</td>\n",
       "      <td>3</td>\n",
       "      <td>58</td>\n",
       "      <td>Y</td>\n",
       "    </tr>\n",
       "    <tr>\n",
       "      <th>3</th>\n",
       "      <td>S</td>\n",
       "      <td>F</td>\n",
       "      <td>70000</td>\n",
       "      <td>0</td>\n",
       "      <td>3</td>\n",
       "      <td>3</td>\n",
       "      <td>56</td>\n",
       "      <td>N</td>\n",
       "    </tr>\n",
       "    <tr>\n",
       "      <th>4</th>\n",
       "      <td>S</td>\n",
       "      <td>F</td>\n",
       "      <td>80000</td>\n",
       "      <td>5</td>\n",
       "      <td>3</td>\n",
       "      <td>3</td>\n",
       "      <td>56</td>\n",
       "      <td>Y</td>\n",
       "    </tr>\n",
       "    <tr>\n",
       "      <th>...</th>\n",
       "      <td>...</td>\n",
       "      <td>...</td>\n",
       "      <td>...</td>\n",
       "      <td>...</td>\n",
       "      <td>...</td>\n",
       "      <td>...</td>\n",
       "      <td>...</td>\n",
       "      <td>...</td>\n",
       "    </tr>\n",
       "    <tr>\n",
       "      <th>18143</th>\n",
       "      <td>M</td>\n",
       "      <td>M</td>\n",
       "      <td>30000</td>\n",
       "      <td>1</td>\n",
       "      <td>4</td>\n",
       "      <td>1</td>\n",
       "      <td>66</td>\n",
       "      <td>Y</td>\n",
       "    </tr>\n",
       "    <tr>\n",
       "      <th>18144</th>\n",
       "      <td>S</td>\n",
       "      <td>F</td>\n",
       "      <td>30000</td>\n",
       "      <td>3</td>\n",
       "      <td>4</td>\n",
       "      <td>1</td>\n",
       "      <td>63</td>\n",
       "      <td>Y</td>\n",
       "    </tr>\n",
       "    <tr>\n",
       "      <th>18145</th>\n",
       "      <td>S</td>\n",
       "      <td>M</td>\n",
       "      <td>30000</td>\n",
       "      <td>3</td>\n",
       "      <td>4</td>\n",
       "      <td>1</td>\n",
       "      <td>64</td>\n",
       "      <td>N</td>\n",
       "    </tr>\n",
       "    <tr>\n",
       "      <th>18146</th>\n",
       "      <td>M</td>\n",
       "      <td>M</td>\n",
       "      <td>30000</td>\n",
       "      <td>3</td>\n",
       "      <td>3</td>\n",
       "      <td>1</td>\n",
       "      <td>65</td>\n",
       "      <td>Y</td>\n",
       "    </tr>\n",
       "    <tr>\n",
       "      <th>18147</th>\n",
       "      <td>M</td>\n",
       "      <td>M</td>\n",
       "      <td>30000</td>\n",
       "      <td>0</td>\n",
       "      <td>3</td>\n",
       "      <td>1</td>\n",
       "      <td>65</td>\n",
       "      <td>Y</td>\n",
       "    </tr>\n",
       "  </tbody>\n",
       "</table>\n",
       "<p>18148 rows × 8 columns</p>\n",
       "</div>"
      ],
      "text/plain": [
       "      MaritalStatus Gender  AnnualIncome  TotalChildren  EducationLevel  \\\n",
       "0                 M      M         90000              2               3   \n",
       "1                 S      M         60000              3               3   \n",
       "2                 M      M         60000              3               3   \n",
       "3                 S      F         70000              0               3   \n",
       "4                 S      F         80000              5               3   \n",
       "...             ...    ...           ...            ...             ...   \n",
       "18143             M      M         30000              1               4   \n",
       "18144             S      F         30000              3               4   \n",
       "18145             S      M         30000              3               4   \n",
       "18146             M      M         30000              3               3   \n",
       "18147             M      M         30000              0               3   \n",
       "\n",
       "       Occupation  Age HomeOwner  \n",
       "0               3   58         Y  \n",
       "1               3   59         N  \n",
       "2               3   58         Y  \n",
       "3               3   56         N  \n",
       "4               3   56         Y  \n",
       "...           ...  ...       ...  \n",
       "18143           1   66         Y  \n",
       "18144           1   63         Y  \n",
       "18145           1   64         N  \n",
       "18146           1   65         Y  \n",
       "18147           1   65         Y  \n",
       "\n",
       "[18148 rows x 8 columns]"
      ]
     },
     "execution_count": 100,
     "metadata": {},
     "output_type": "execute_result"
    }
   ],
   "source": [
    "df2"
   ]
  },
  {
   "cell_type": "code",
   "execution_count": 101,
   "id": "cb1938d1",
   "metadata": {},
   "outputs": [],
   "source": [
    "X = pd.get_dummies(df2.drop(\"HomeOwner\", axis = 1))\n",
    "y = df2[\"HomeOwner\"]"
   ]
  },
  {
   "cell_type": "code",
   "execution_count": 102,
   "id": "f2c5eb09",
   "metadata": {},
   "outputs": [],
   "source": [
    "X_train, X_test, y_train, y_test = train_test_split(X, y, test_size= 0.2, random_state= 42)"
   ]
  },
  {
   "cell_type": "markdown",
   "id": "7e8c58c0",
   "metadata": {},
   "source": [
    "## No Sampling"
   ]
  },
  {
   "cell_type": "code",
   "execution_count": 103,
   "id": "a1587483",
   "metadata": {},
   "outputs": [
    {
     "data": {
      "text/plain": [
       "[array([0.72024793, 0.66280992, 0.72520661, 0.68719008, 0.66845804,\n",
       "        0.67465895]),\n",
       " array([0.74421488, 0.73884298, 0.75661157, 0.75454545, 0.74493592,\n",
       "        0.74410914]),\n",
       " array([0.74338843, 0.74173554, 0.74586777, 0.74338843, 0.74410914,\n",
       "        0.75072344])]"
      ]
     },
     "execution_count": 103,
     "metadata": {},
     "output_type": "execute_result"
    }
   ],
   "source": [
    "results = []\n",
    "for model in models.values():\n",
    "    kf = KFold(n_splits= 6, shuffle = True, random_state= 42)\n",
    "    cv_results = cross_val_score(model, X_train, y_train, cv= kf)\n",
    "    results.append(cv_results)\n",
    "results"
   ]
  },
  {
   "cell_type": "code",
   "execution_count": 104,
   "id": "4e8a2a6f",
   "metadata": {},
   "outputs": [
    {
     "data": {
      "image/png": "[encoded data removed]",
      "text/plain": [
       "<Figure size 640x480 with 1 Axes>"
      ]
     },
     "metadata": {},
     "output_type": "display_data"
    }
   ],
   "source": [
    "plt.boxplot(results, labels= models.keys());"
   ]
  },
  {
   "cell_type": "code",
   "execution_count": 105,
   "id": "dd3591f7",
   "metadata": {},
   "outputs": [
    {
     "name": "stdout",
     "output_type": "stream",
     "text": [
      "lr's score: 0.6738292011019283\n",
      "knn's score: 0.7418732782369146\n",
      "rfc's score: 0.7449035812672177\n"
     ]
    }
   ],
   "source": [
    "for name, model in models.items():\n",
    "    model.fit(X_train, y_train)\n",
    "    test_score = model.score(X_test,y_test)\n",
    "    print(f\"{name}'s score: {test_score}\")"
   ]
  },
  {
   "cell_type": "markdown",
   "id": "40c0aebd",
   "metadata": {},
   "source": [
    "## Over Sampling"
   ]
  },
  {
   "cell_type": "code",
   "execution_count": 106,
   "id": "22aa2f9a",
   "metadata": {},
   "outputs": [],
   "source": [
    "over_sampler = RandomOverSampler(random_state= 42)\n",
    "X_train_over, y_train_over = over_sampler.fit_resample(X_train, y_train)"
   ]
  },
  {
   "cell_type": "code",
   "execution_count": 107,
   "id": "e3cd66cb",
   "metadata": {},
   "outputs": [
    {
     "data": {
      "text/plain": [
       "[array([0.49724939, 0.51100244, 0.49831856, 0.4955671 , 0.49648426,\n",
       "        0.62335677]),\n",
       " array([0.74388753, 0.73685819, 0.72821767, 0.74014063, 0.73005197,\n",
       "        0.73586059]),\n",
       " array([0.77261614, 0.76283619, 0.75787221, 0.77804953, 0.77162947,\n",
       "        0.77407521])]"
      ]
     },
     "execution_count": 107,
     "metadata": {},
     "output_type": "execute_result"
    }
   ],
   "source": [
    "results = []\n",
    "for model in models.values():\n",
    "    kf = KFold(n_splits= 6, shuffle = True, random_state= 42)\n",
    "    cv_results = cross_val_score(model, X_train_over, y_train_over, cv= kf)\n",
    "    results.append(cv_results)\n",
    "results"
   ]
  },
  {
   "cell_type": "code",
   "execution_count": 108,
   "id": "07e5abd8",
   "metadata": {},
   "outputs": [
    {
     "data": {
      "image/png": "[encoded data removed]",
      "text/plain": [
       "<Figure size 640x480 with 1 Axes>"
      ]
     },
     "metadata": {},
     "output_type": "display_data"
    }
   ],
   "source": [
    "plt.boxplot(results, labels= models.keys());"
   ]
  },
  {
   "cell_type": "code",
   "execution_count": 109,
   "id": "5da59672",
   "metadata": {},
   "outputs": [
    {
     "name": "stdout",
     "output_type": "stream",
     "text": [
      "lr's score: 0.677961432506887\n",
      "knn's score: 0.7303030303030303\n",
      "rfc's score: 0.7151515151515152\n"
     ]
    }
   ],
   "source": [
    "for name, model in models.items():\n",
    "    model.fit(X_train_over, y_train_over)\n",
    "    test_score = model.score(X_test,y_test)\n",
    "    print(f\"{name}'s score: {test_score}\")"
   ]
  },
  {
   "cell_type": "code",
   "execution_count": null,
   "id": "38e3391d",
   "metadata": {},
   "outputs": [],
   "source": []
  },
  {
   "cell_type": "code",
   "execution_count": null,
   "id": "2fb095d9",
   "metadata": {},
   "outputs": [],
   "source": []
  },
  {
   "cell_type": "code",
   "execution_count": null,
   "id": "f2477232",
   "metadata": {},
   "outputs": [],
   "source": []
  }
 ],
 "metadata": {
  "kernelspec": {
   "display_name": "Python 3 (ipykernel)",
   "language": "python",
   "name": "python3"
  },
  "language_info": {
   "codemirror_mode": {
    "name": "ipython",
    "version": 3
   },
   "file_extension": ".py",
   "mimetype": "text/x-python",
   "name": "python",
   "nbconvert_exporter": "python",
   "pygments_lexer": "ipython3",
   "version": "3.10.9"
  }
 },
 "nbformat": 4,
 "nbformat_minor": 5
}
